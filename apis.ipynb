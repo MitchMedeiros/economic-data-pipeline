{
 "cells": [
  {
   "cell_type": "code",
   "execution_count": null,
   "metadata": {},
   "outputs": [],
   "source": [
    "import json\n",
    "\n",
    "import requests\n",
    "\n",
    "import my_config\n",
    "\n",
    "class RestAPI:\n",
    "    def __init__(self, base_url, endpoints):\n",
    "        self.base_url = base_url\n",
    "        self.endpoints = endpoints\n",
    "        self.data = {}\n",
    "\n",
    "    def fetch_data(self):\n",
    "        for key, endpoint in self.endpoints.items():\n",
    "            url = self.base_url + endpoint\n",
    "            response = requests.get(url)\n",
    "\n",
    "            if response.status_code == 200:\n",
    "                self.data[key] = response.json()\n",
    "            else:\n",
    "                print(f\"Error: {response.status_code}. Couldn't retrieve data for {key}\")"
   ]
  },
  {
   "attachments": {},
   "cell_type": "markdown",
   "metadata": {},
   "source": [
    "US Treasury Department API"
   ]
  },
  {
   "cell_type": "code",
   "execution_count": null,
   "metadata": {},
   "outputs": [],
   "source": [
    "'''\n",
    "Treasury Endpoint Descriptions:\n",
    "\"interest_rates\" - Average interest rates for marketable and non-marketable securities.\n",
    "\"cash_balance\" - This table represents the Treasury General Account balance. All figures are rounded to the nearest million.\n",
    "\"transactions\" - This table represents deposits and withdrawals from the Treasury General Account. \n",
    "\"us_debt\" - Outstanding U.S. debt on a daily basis. Measured to the penny.\n",
    "All figures are rounded to the nearest million.\n",
    "'''\n",
    "\n",
    "treasury_base_url = \"https://api.fiscaldata.treasury.gov/services/api/fiscal_service\"\n",
    "treasury_endpoints = {\n",
    "    'interest_rates': '/v2/accounting/od/avg_interest_rates',\n",
    "    'cash_balance': '/v1/accounting/dts/dts_table_1',\n",
    "    'transactions': '/v1/accounting/dts/dts_table_2',\n",
    "    'us_debt': '/v2/accounting/od/debt_to_penny',\n",
    "    'balance_sheet': '/v2/accounting/od/balance_sheets'\n",
    "}\n",
    "\n",
    "treasury_api = RestAPI(treasury_base_url, treasury_endpoints)\n",
    "treasury_api.fetch_data()\n",
    "\n",
    "print(json.dumps(treasury_api.data, indent=4))"
   ]
  },
  {
   "attachments": {},
   "cell_type": "markdown",
   "metadata": {},
   "source": [
    "US Bureau of Economic Analysis API"
   ]
  },
  {
   "cell_type": "code",
   "execution_count": null,
   "metadata": {},
   "outputs": [],
   "source": [
    "# bea_method = \"GetData\"\n",
    "# bea_datasetname = \"NIPA\"\n",
    "# bea_tablename = \"T10101\"\n",
    "\n",
    "bea_frequency = \"A,Q\"\n",
    "bea_years = \"ALL\"\n",
    "\n",
    "'''\n",
    "BEA Endpoint Descriptions:\n",
    "\"gdp\" - Annual percent change of gross domestic product.\n",
    "'''\n",
    "\n",
    "bea_base_url = \"https://apps.bea.gov/api/data\"\n",
    "\n",
    "bea_endpoints = {\n",
    "    'annual_gdp': f\"/?&UserID={my_config.BEA_KEY}&method=GetData&DataSetName=NIPA&TableName=T10101&Frequency={bea_frequency}&Year={bea_years}\",\n",
    "    'all_data': f\"/?&UserID={my_config.BEA_KEY}&method=GetParameterValues&DataSetName=NIPA&ParameterName=TableName\"\n",
    "}\n",
    "\n",
    "bea_api = RestAPI(bea_base_url, bea_endpoints)\n",
    "bea_api.fetch_data()\n",
    "\n",
    "print(json.dumps(bea_api.data['all_data']['BEAAPI']['Results']['ParamValue'], indent=4))"
   ]
  },
  {
   "cell_type": "code",
   "execution_count": null,
   "metadata": {},
   "outputs": [],
   "source": [
    "# Save json output to a .json file.\n",
    "json_api_2 = json.dumps(bea_api.data['annual_gdp']['BEAAPI']['Results']['Data'], indent=4)\n",
    "func = open(\"dict_2.json\",\"w\")\n",
    "func.write(json_api_2)\n",
    "func.close()"
   ]
  },
  {
   "attachments": {},
   "cell_type": "markdown",
   "metadata": {},
   "source": [
    "US Bureau of Labor Statistics API - really slow"
   ]
  },
  {
   "cell_type": "code",
   "execution_count": null,
   "metadata": {},
   "outputs": [],
   "source": [
    "labor_base_url = 'https://api.bls.gov/publicAPI/v2/timeseries/data'\n",
    "\n",
    "labor_endpoints = {\n",
    "    'unemployment_rate': '/LNS14000000',\n",
    "    # 'cpi': '/CUUR0000SA0'\n",
    "}\n",
    "\n",
    "labor_dates = {\n",
    "    'startyear': '2005',\n",
    "    'endyear': '2020'\n",
    "}\n",
    "\n",
    "labor_api = RestAPI(labor_base_url, labor_endpoints)\n",
    "labor_api.fetch_data()\n",
    "\n",
    "print(json.dumps(labor_api.data['unemployment_rate'], indent=4))"
   ]
  }
 ],
 "metadata": {
  "kernelspec": {
   "display_name": "econ_venv",
   "language": "python",
   "name": "python3"
  },
  "language_info": {
   "codemirror_mode": {
    "name": "ipython",
    "version": 3
   },
   "file_extension": ".py",
   "mimetype": "text/x-python",
   "name": "python",
   "nbconvert_exporter": "python",
   "pygments_lexer": "ipython3",
   "version": "3.10.6"
  },
  "orig_nbformat": 4
 },
 "nbformat": 4,
 "nbformat_minor": 2
}
