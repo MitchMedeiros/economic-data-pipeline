{
 "cells": [
  {
   "cell_type": "code",
   "execution_count": null,
   "metadata": {},
   "outputs": [],
   "source": [
    "import json\n",
    "\n",
    "import requests\n",
    "\n",
    "import my_config\n",
    "\n",
    "class RestAPI:\n",
    "    def __init__(self, base_url, endpoints):\n",
    "        self.base_url = base_url\n",
    "        self.endpoints = endpoints\n",
    "        self.data = {}\n",
    "\n",
    "    def fetch_data(self):\n",
    "        for key, endpoint in self.endpoints.items():\n",
    "            url = self.base_url + endpoint\n",
    "            response = requests.get(url)\n",
    "\n",
    "            if response.status_code == 200:\n",
    "                self.data[key] = response.json()\n",
    "            else:\n",
    "                print(f\"Error: {response.status_code}. Couldn't retrieve data for {key}\")"
   ]
  },
  {
   "attachments": {},
   "cell_type": "markdown",
   "metadata": {},
   "source": [
    "US Bureau of Economic Analysis API"
   ]
  },
  {
   "cell_type": "code",
   "execution_count": null,
   "metadata": {},
   "outputs": [],
   "source": [
    "all_bea_tables = {\n",
    "    \"T10503\": \"Real Gross Domestic Product, Expanded Detail, Quantity Indexes (A) (Q)\",\n",
    "    \"T10105\": \"Gross Domestic Product (A) (Q)\",\n",
    "    \"T10505\": \"Gross Domestic Product, Expanded Detail (A) (Q)\",\n",
    "    \"T80103\": \"Real Gross Domestic Product, Quantity Indexes, Not Seasonally Adjusted (Q)\",\n",
    "    \"T80104\": \"Price Indexes for Gross Domestic Product, Not Seasonally Adjusted (Q)\",\n",
    "    \"T80105\": \"Gross Domestic Product, Not Seasonally Adjusted (Q)\",\n",
    "    \"T80106\": \"Real Gross Domestic Product, Chained Dollars, Not Seasonally Adjusted (Q)\",\n",
    "    \"T80200\": \"Gross Domestic Income by Type of Income, Not Seasonally Adjusted (Q)\",\n",
    "    \"T11000\": \"Gross Domestic Income by Type of Income (A) (Q)\",\n",
    "    \"T11000\": \"Gross Domestic Income by Type of Income (A) (Q)\",\n",
    "\n",
    "    \"T20301\": \"Percent Change From Preceding Period in Real Personal Consumption Expenditures by Major Type of Product (A) (Q)\",\n",
    "\n",
    "    \"T20100\": \"Personal Income and Its Disposition (A) (Q)\",\n",
    "    \"T20600\": \"Personal Income and Its Disposition, Monthly (M)\",\n",
    "    \"T20200A\": \"Wages and Salaries by Industry (A) (Q)\",\n",
    "    \"T20200B\": \"Wages and Salaries by Industry (A) (Q)\",\n",
    "    \"T20700A\": \"Wages and Salaries by Industry, Monthly (M)\",\n",
    "    \"T20700B\": \"Wages and Salaries by Industry, Monthly (M)\",\n",
    "\n",
    "    \"T40201\": \"Percent Change From Preceding Period in Real Exports and in Real Imports of Goods and Services by Type of Product (A) (Q)\",\n",
    "    \"T40203\": \"Real Exports and Imports of Goods and Services by Type of Product, Quantity Indexes (A) (Q)\",\n",
    "    \"T40204\": \"Price Indexes for Exports and Imports of Goods and Services by Type of Product (A) (Q)\",\n",
    "    \"T40205\": \"Exports and Imports of Goods and Services by Type of Product (A) (Q)\",\n",
    "\n",
    "    \"T50100\": \"Saving and Investment by Sector (A) (Q)\",\n",
    "    \"T50203\": \"Real Gross and Net Domestic Investment by Major Type, Quantity Indexes (A)\",\n",
    "    \"T50205\": \"Gross and Net Domestic Investment by Major Type (A)\",\n",
    "    \"T50301\": \"Percent Change From Preceding Period in Real Private Fixed Investment by Type (A) (Q)\",\n",
    "\n",
    "    \"T50705A\": \"Change in Private Inventories by Industry (A) (Q)\",\n",
    "    \"T50705B\": \"Change in Private Inventories by Industry (A) (Q)\",\n",
    "\n",
    "    \"T61600A\": \"Corporate Profits by Industry (A)\",\n",
    "    \"T61600B\": \"Corporate Profits by Industry (A) (Q)\",\n",
    "    \"T61600C\": \"Corporate Profits by Industry (A) (Q)\",\n",
    "    \"T61600D\": \"Corporate Profits by Industry (A) (Q)\",\n",
    "\n",
    "    \"T70201A\": \"Percent Change From Preceding Period in Real Auto Output (A) (Q)\",\n",
    "    \"T70201B\": \"Percent Change From Preceding Period in Real Motor Vehicle Output (A) (Q)\",\n",
    "    \"T70203A\": \"Real Auto Output, Quantity Indexes (A) (Q)\",\n",
    "    \"T70203B\": \"Real Motor Vehicle Output, Quantity Indexes (A) (Q)\",\n",
    "\n",
    "    \"T80300\": \"Federal Government Current Receipts and Expenditures, Not Seasonally Adjusted (Q)\"\n",
    "}\n",
    "\n",
    "gdp_percent_changes = {\n",
    "    \"T10101\" : \"Percent Change From Preceding Period in Real Gross Domestic Product (A) (Q)\",\n",
    "    \"T10107\": \"Percent Change From Preceding Period in Prices for Gross Domestic Product (A) (Q)\",\n",
    "    \"T10108\": \"Contributions to Percent Change in the Gross Domestic Product Price Index (A) (Q)\",\n",
    "    \"T10501\": \"Percent Change From Preceding Period in Real Gross Domestic Product, Expanded Detail (A) (Q)\",\n",
    "    \"T80111\": \"Real Gross Domestic Product: Percent Change From Quarter One Year Ago, Not Seasonally Adjusted (Q)\"\n",
    "}"
   ]
  },
  {
   "cell_type": "code",
   "execution_count": null,
   "metadata": {},
   "outputs": [],
   "source": [
    "start_year = 2019\n",
    "end_year = 2020\n",
    "bea_years = range(start_year, end_year + 1)\n",
    "\n",
    "bea_years = ','.join(str(year) for year in bea_years)\n",
    "bea_frequency = 'A,Q,M'\n",
    "bea_table = 'T10101'\n",
    "\n",
    "'''\n",
    "BEA Endpoint Descriptions:\n",
    "\"gdp\" - Percent Change From Preceding Period in Real Gross Domestic Product (A) (Q).\n",
    "'''\n",
    "\n",
    "bea_base_url = \"https://apps.bea.gov/api/data/\"\n",
    "\n",
    "bea_endpoints = {\n",
    "    'gdp': f\"?&UserID={my_config.BEA_KEY}&DataSetName=NIPA&method=GetData&TableName={bea_table}&Frequency={bea_frequency}&Year={bea_years}\",\n",
    "    # 'all_nipa_tables': f\"?&UserID={my_config.BEA_KEY}&DataSetName=NIPA&method=GetParameterValues&ParameterName=TableName\"\n",
    "}\n",
    "\n",
    "bea_api = RestAPI(bea_base_url, bea_endpoints)\n",
    "bea_api.fetch_data()\n",
    "\n",
    "print(json.dumps(bea_api.data['gdp']['BEAAPI']['Results']['Data'], indent=4))\n",
    "# print(json.dumps(bea_api.data['all_nipa_tables'], indent=4))"
   ]
  },
  {
   "cell_type": "code",
   "execution_count": null,
   "metadata": {},
   "outputs": [],
   "source": [
    "import pandas as pd\n",
    "\n",
    "gdp_data = json.dumps(bea_api.data['gdp']['BEAAPI']['Results']['Data'], indent=4)\n",
    "gdp_df = pd.read_json(gdp_data)\n",
    "gdp_df2 = pd.DataFrame(gdp_df, columns=['TimePeriod', 'DataValue', 'LineDescription', 'METRIC_NAME']\n",
    "    ).rename(columns={'TimePeriod': 'date', 'DataValue': 'gdp (%)', 'METRIC_NAME': 'metric', 'LineDescription': 'description'}\n",
    "    ).set_index('date')\n",
    "\n",
    "# display(gdp_df)\n",
    "print(gdp_df2.to_string())"
   ]
  },
  {
   "cell_type": "code",
   "execution_count": null,
   "metadata": {},
   "outputs": [],
   "source": [
    "print(gdp_df2['description'].unique())"
   ]
  },
  {
   "cell_type": "code",
   "execution_count": null,
   "metadata": {},
   "outputs": [],
   "source": [
    "legit_gdp_df = gdp_df2.loc[gdp_df2['description'] == \"Gross domestic product\"]\n",
    "legit_gdp_df = legit_gdp_df.drop(columns=['description'])"
   ]
  },
  {
   "cell_type": "code",
   "execution_count": null,
   "metadata": {},
   "outputs": [],
   "source": [
    "print(legit_gdp_df.to_string())"
   ]
  },
  {
   "cell_type": "code",
   "execution_count": null,
   "metadata": {},
   "outputs": [],
   "source": [
    "# Save json output to a .json file.\n",
    "json_api_2 = json.dumps(bea_api.data['annual_gdp']['BEAAPI']['Results']['Data'], indent=4)\n",
    "func = open(\"dict_2.json\",\"w\")\n",
    "func.write(json_api_2)\n",
    "func.close()"
   ]
  },
  {
   "attachments": {},
   "cell_type": "markdown",
   "metadata": {},
   "source": [
    "US Treasury Department API"
   ]
  },
  {
   "cell_type": "code",
   "execution_count": null,
   "metadata": {},
   "outputs": [],
   "source": [
    "'''\n",
    "Treasury Endpoint Descriptions:\n",
    "\"interest_rates\" - Average interest rates for marketable and non-marketable securities.\n",
    "\"cash_balance\" - This table represents the Treasury General Account balance. All figures are rounded to the nearest million.\n",
    "\"transactions\" - This table represents deposits and withdrawals from the Treasury General Account. \n",
    "\"us_debt\" - Outstanding U.S. debt on a daily basis. Measured to the penny.\n",
    "All figures are rounded to the nearest million.\n",
    "'''\n",
    "\n",
    "treasury_base_url = \"https://api.fiscaldata.treasury.gov/services/api/fiscal_service/\"\n",
    "treasury_endpoints = {\n",
    "    'interest_rates': 'v2/accounting/od/avg_interest_rates',\n",
    "    'cash_balance': 'v1/accounting/dts/dts_table_1',\n",
    "    'transactions': 'v1/accounting/dts/dts_table_2',\n",
    "    'us_debt': 'v2/accounting/od/debt_to_penny',\n",
    "    'balance_sheet': 'v2/accounting/od/balance_sheets'\n",
    "}\n",
    "\n",
    "treasury_api = RestAPI(treasury_base_url, treasury_endpoints)\n",
    "treasury_api.fetch_data()\n",
    "\n",
    "print(json.dumps(treasury_api.data, indent=4))"
   ]
  },
  {
   "attachments": {},
   "cell_type": "markdown",
   "metadata": {},
   "source": [
    "US Bureau of Labor Statistics API - really slow"
   ]
  },
  {
   "cell_type": "code",
   "execution_count": null,
   "metadata": {},
   "outputs": [],
   "source": [
    "labor_base_url = 'https://api.bls.gov/publicAPI/v2/timeseries/data/'\n",
    "\n",
    "labor_endpoints = {\n",
    "    'unemployment_rate': 'LNS14000000',\n",
    "    # 'cpi': 'CUUR0000SA0'\n",
    "}\n",
    "\n",
    "labor_dates = {\n",
    "    'startyear': '2005',\n",
    "    'endyear': '2020'\n",
    "}\n",
    "\n",
    "labor_api = RestAPI(labor_base_url, labor_endpoints)\n",
    "labor_api.fetch_data()\n",
    "\n",
    "print(json.dumps(labor_api.data['unemployment_rate'], indent=4))"
   ]
  },
  {
   "cell_type": "code",
   "execution_count": null,
   "metadata": {},
   "outputs": [],
   "source": [
    "import json\n",
    "\n",
    "import pandas as pd\n",
    "import requests\n",
    "\n",
    "import my_config\n",
    "\n",
    "class RestAPI:\n",
    "    def __init__(self, base_url, endpoints):\n",
    "        self.base_url = base_url\n",
    "        self.endpoints = endpoints\n",
    "        self.data = {}\n",
    "\n",
    "    def fetch_data(self):\n",
    "        for key, endpoint in self.endpoints.items():\n",
    "            url = self.base_url + endpoint\n",
    "            response = requests.get(url)\n",
    "            if response.status_code == 200: self.data[key] = response.json()\n",
    "\n",
    "bea_years = range(start_year, end_year + 1)\n",
    "\n",
    "bea_years = ','.join(str(year) for year in bea_years)\n",
    "bea_frequency = 'Q'\n",
    "bea_dataset = 'NIPA'\n",
    "bea_table = 'T10101'\n",
    "\n",
    "bea_base_url = f\"https://apps.bea.gov/api/data/?&UserID={my_config.BEA_KEY}\"\n",
    "bea_endpoints = {\n",
    "    'gdp': f\"&method=GetData \\\n",
    "            &DataSetName={bea_dataset} \\\n",
    "            &TableName={bea_table} \\\n",
    "            &Frequency={bea_frequency} \\\n",
    "            &Year={bea_years}\"\n",
    "}\n",
    "\n",
    "bea_api = RestAPI(bea_base_url, bea_endpoints)\n",
    "bea_api.fetch_data()\n",
    "\n",
    "gdp_data = json.dumps(bea_api.data['gdp']['BEAAPI']['Results']['Data'])\n",
    "gdp_df = pd.read_json(gdp_data)\n",
    "gdp_df = (\n",
    "    pd.DataFrame(gdp_df, columns=['TimePeriod', 'DataValue', 'METRIC_NAME', 'LineDescription'])\n",
    "        .rename(columns={'TimePeriod': 'date', 'DataValue': 'gdp (%)', 'METRIC_NAME': 'metric'})\n",
    "        .loc[gdp_df['LineDescription'] == \"Gross domestic product\"]\n",
    "        .drop(columns=['LineDescription'])\n",
    ")\n",
    "display(gdp_df)"
   ]
  }
 ],
 "metadata": {
  "kernelspec": {
   "display_name": "econ_venv",
   "language": "python",
   "name": "python3"
  },
  "language_info": {
   "codemirror_mode": {
    "name": "ipython",
    "version": 3
   },
   "file_extension": ".py",
   "mimetype": "text/x-python",
   "name": "python",
   "nbconvert_exporter": "python",
   "pygments_lexer": "ipython3",
   "version": "3.10.6"
  },
  "orig_nbformat": 4
 },
 "nbformat": 4,
 "nbformat_minor": 2
}
